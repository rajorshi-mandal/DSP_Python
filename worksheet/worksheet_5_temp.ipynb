{
  "nbformat": 4,
  "nbformat_minor": 0,
  "metadata": {
    "colab": {
      "provenance": []
    },
    "kernelspec": {
      "name": "python3",
      "display_name": "Python 3"
    },
    "language_info": {
      "name": "python"
    }
  },
  "cells": [
    {
      "cell_type": "markdown",
      "source": [
        "**Worksheet 5**"
      ],
      "metadata": {
        "id": "0GZfC4ESii-Y"
      }
    },
    {
      "cell_type": "markdown",
      "source": [
        "1. Filtering long data sequences."
      ],
      "metadata": {
        "id": "Ab1m24A4ilvU"
      }
    },
    {
      "cell_type": "markdown",
      "source": [
        "(a) Implement the OLA (Overlap-Add Method) Algorithm."
      ],
      "metadata": {
        "id": "k57WZGyeio5a"
      }
    },
    {
      "cell_type": "markdown",
      "source": [
        "**Load Libraries**"
      ],
      "metadata": {
        "id": "uytUI8k6iwrn"
      }
    },
    {
      "cell_type": "code",
      "source": [
        "import numpy as np"
      ],
      "metadata": {
        "id": "9dQbeI_ta2nG"
      },
      "execution_count": 95,
      "outputs": []
    },
    {
      "cell_type": "markdown",
      "source": [
        "**Select Parameters**"
      ],
      "metadata": {
        "id": "lITcSKhniy_K"
      }
    },
    {
      "cell_type": "code",
      "source": [
        "xn = np.array([1, 2, -1, 3, -2, 4, 1, -3, 1, 1, -1 ,1]) # input sequence\n",
        "hn = np.array([1, -1, 1]) # impulse sequence\n",
        "\n",
        "M = len(hn)  # Length of impulse sequence\n",
        "L = int(len(xn) / M)  # Length of input frame\n",
        "N = L + M - 1  # Length of output frame\n",
        "L_yn = (int(len(xn) / L) * L) + M - 1 # Length of yn or final output (formula : No. of samples in xn (input sequence) * No. of samples in each frame of xn + Lenght of hn()impulse sequence - 1)\n",
        "\n",
        "# Pad nn with zeros to make it of length N\n",
        "# hn = np.concatenate((nn, np.zeros(N - M)))\n",
        "\n",
        "# Initialize the output sequence yn\n",
        "yn = np.zeros(L_yn)\n",
        "k = 0 # iterator for xn"
      ],
      "metadata": {
        "id": "OxrJsj_Ei81P"
      },
      "execution_count": 96,
      "outputs": []
    },
    {
      "cell_type": "markdown",
      "source": [
        "**Perform OLA**"
      ],
      "metadata": {
        "id": "wjnVFk3Pj-34"
      }
    },
    {
      "cell_type": "code",
      "source": [
        "# Perform convolution and overlapping-add for each frame\n",
        "while(k < len(xn)):\n",
        "  # Create a frame from xin\n",
        "  # frame_xin = np.zeros(N)\n",
        "  start_idx = k               # starting index of output frame\n",
        "  frame_yin = np.zeros(N)     # Initialize output sequence with zeros\n",
        "  frame_xn = np.zeros(L)      # Initialise input frame with zeros\n",
        "\n",
        "  frame_xn = xn[k:k + L]      # input frame\n",
        "  k += L\n",
        "  end_idx = k                 # upto non-overlap portion of output frame\n",
        "\n",
        "  # Convolve the frame with hn\n",
        "  for i in range(len(frame_xn)):         #looping for creating output response y\n",
        "    for j in range(M):\n",
        "      frame_yin[i + j] += frame_xn[i]*hn[j]\n",
        "\n",
        "  # Add the frame to the output sequence at the correct position\n",
        "  yn[start_idx:end_idx + M - 1] += frame_yin"
      ],
      "metadata": {
        "id": "szDuzlczi2Y2"
      },
      "execution_count": 97,
      "outputs": []
    },
    {
      "cell_type": "markdown",
      "source": [
        "**Print Input and Output**"
      ],
      "metadata": {
        "id": "V6UFwoeskCUz"
      }
    },
    {
      "cell_type": "code",
      "source": [
        "print('Input Sequence is : {} '.format(xn))\n",
        "print('Impulse Sequence is : {} '.format(hn))\n",
        "print('Output Sequence is : {} '.format(yn))"
      ],
      "metadata": {
        "colab": {
          "base_uri": "https://localhost:8080/"
        },
        "id": "ElUtm6kbkF9s",
        "outputId": "fe4f655a-6aa7-466d-b25c-9aecbf7e61fb"
      },
      "execution_count": 98,
      "outputs": [
        {
          "output_type": "stream",
          "name": "stdout",
          "text": [
            "Input Sequence is : [ 1  2 -1  3 -2  4  1 -3  1  1 -1  1] \n",
            "Impulse Sequence is : [ 1 -1  1] \n",
            "Output Sequence is : [ 1.  1. -2.  6. -6.  9. -5.  0.  5. -3. -1.  3. -2.  1.] \n"
          ]
        }
      ]
    }
  ]
}