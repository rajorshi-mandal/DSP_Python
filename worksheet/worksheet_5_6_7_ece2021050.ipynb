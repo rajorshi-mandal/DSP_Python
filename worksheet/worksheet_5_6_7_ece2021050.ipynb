{
  "nbformat": 4,
  "nbformat_minor": 0,
  "metadata": {
    "colab": {
      "provenance": []
    },
    "kernelspec": {
      "name": "python3",
      "display_name": "Python 3"
    },
    "language_info": {
      "name": "python"
    }
  },
  "cells": [
    {
      "cell_type": "markdown",
      "source": [
        "**Wokrsheet 5, 6, 7**"
      ],
      "metadata": {
        "id": "CJZnfE-9_tjO"
      }
    },
    {
      "cell_type": "markdown",
      "source": [
        "**Worksheet 5**"
      ],
      "metadata": {
        "id": "mHE33OzT_2X9"
      }
    },
    {
      "cell_type": "markdown",
      "source": [
        "1. Filtering long data sequences."
      ],
      "metadata": {
        "id": "Ab1m24A4ilvU"
      }
    },
    {
      "cell_type": "markdown",
      "source": [
        "**Load Libraries**"
      ],
      "metadata": {
        "id": "EhXZVjJSAdIo"
      }
    },
    {
      "cell_type": "code",
      "execution_count": 17,
      "metadata": {
        "id": "pZpMd3ZG_pSQ"
      },
      "outputs": [],
      "source": [
        "import numpy as np\n",
        "import matplotlib.pyplot as plt\n",
        "from scipy.signal import firwin\n",
        "from scipy.signal import freqz"
      ]
    },
    {
      "cell_type": "markdown",
      "source": [
        "**Select Parameters**"
      ],
      "metadata": {
        "id": "lITcSKhniy_K"
      }
    },
    {
      "cell_type": "code",
      "source": [
        "xn = np.array([1, 2, -1, 3, -2, 4, 1, -3, 1, 1, -1 ,1]) # input sequence\n",
        "hn = np.array([1, -1, 1]) # impulse sequence\n",
        "\n",
        "M = len(hn)  # Length of impulse sequence\n",
        "L = int(len(xn) / M)  # Length of input frame\n",
        "N = L + M - 1  # Length of output frame\n",
        "L_yn = (int(len(xn) / L) * L) + M - 1 # Length of yn or final output (formula : No. of samples in xn (input sequence)/ No of smaples in each xn frame * No. of samples in each frame of xn + Lenght of hn()impulse sequence - 1)\n",
        "Prepend_count = N - L # No. of prepend samples\n",
        "# Pad nn with zeros to make it of length N\n",
        "# hn = np.concatenate((nn, np.zeros(N - M)))\n",
        "\n",
        "# Initialize the output sequence yn\n",
        "yn = np.zeros(L_yn)\n",
        "k = 0 # iterator for xn\n",
        "\n",
        "hn_padded = np.pad(hn,(0,N - M))"
      ],
      "metadata": {
        "id": "OxrJsj_Ei81P"
      },
      "execution_count": 18,
      "outputs": []
    },
    {
      "cell_type": "markdown",
      "source": [
        "(a) Implement the OLA (Overlap-Add Method) Algorithm."
      ],
      "metadata": {
        "id": "k57WZGyeio5a"
      }
    },
    {
      "cell_type": "markdown",
      "source": [
        "**Perform OLA**"
      ],
      "metadata": {
        "id": "wjnVFk3Pj-34"
      }
    },
    {
      "cell_type": "code",
      "source": [
        "count = 0\n",
        "# Perform convolution and overlapping-add for each frame\n",
        "while(k < len(xn)):\n",
        "\n",
        "  count += 1\n",
        "  # Create a frame from xin\n",
        "  # frame_xin = np.zeros(N)\n",
        "  start_idx = k               # starting index of output frame\n",
        "  frame_yin = np.zeros(N)     # Initialize output sequence with zeros\n",
        "  frame_xn = np.zeros(L)      # Initialise input frame with zeros\n",
        "\n",
        "  frame_xn = xn[k:k + L]      # input frame\n",
        "  k += L\n",
        "  end_idx = k                 # upto non-overlap portion of output frame\n",
        "\n",
        "  print('xn frame {} : {}'.format(count,frame_xn))\n",
        "  # Convolve the frame with hn (Linear Concolution)\n",
        "  for i in range(len(frame_xn)):         #looping for creating output response y\n",
        "    for j in range(M):\n",
        "      frame_yin[i + j] += frame_xn[i]*hn[j]\n",
        "\n",
        "  print('Frame {} after linear concolution : {}'.format(count,frame_yin))\n",
        "  # Add the frame to the output sequence at the correct position\n",
        "  yn[start_idx:end_idx + M - 1] += frame_yin\n",
        "\n"
      ],
      "metadata": {
        "id": "szDuzlczi2Y2",
        "colab": {
          "base_uri": "https://localhost:8080/"
        },
        "outputId": "db49ed83-288a-41d8-8b6a-cae059ca15ec"
      },
      "execution_count": 19,
      "outputs": [
        {
          "output_type": "stream",
          "name": "stdout",
          "text": [
            "xn frame 1 : [ 1  2 -1  3]\n",
            "Frame 1 after linear concolution : [ 1.  1. -2.  6. -4.  3.]\n",
            "xn frame 2 : [-2  4  1 -3]\n",
            "Frame 2 after linear concolution : [-2.  6. -5.  0.  4. -3.]\n",
            "xn frame 3 : [ 1  1 -1  1]\n",
            "Frame 3 after linear concolution : [ 1.  0. -1.  3. -2.  1.]\n"
          ]
        }
      ]
    },
    {
      "cell_type": "code",
      "source": [
        "print('Input Sequence is : {} '.format(xn))\n",
        "print('Impulse Sequence is : {} '.format(hn))\n",
        "print('Output Sequence is : {} '.format(yn))"
      ],
      "metadata": {
        "colab": {
          "base_uri": "https://localhost:8080/"
        },
        "id": "ElUtm6kbkF9s",
        "outputId": "19fc3281-eb89-417d-c478-5428444f09e6"
      },
      "execution_count": 21,
      "outputs": [
        {
          "output_type": "stream",
          "name": "stdout",
          "text": [
            "Input Sequence is : [ 1  2 -1  3 -2  4  1 -3  1  1 -1  1] \n",
            "Impulse Sequence is : [ 1 -1  1] \n",
            "Output Sequence is : [ 1.  1. -2.  6. -6.  9. -5.  0.  5. -3. -1.  3. -2.  1.] \n"
          ]
        }
      ]
    },
    {
      "cell_type": "markdown",
      "source": [
        "(b) Implement the OLS (Overlap-Save Method) Algorithm."
      ],
      "metadata": {
        "id": "rnckVgvucChH"
      }
    },
    {
      "cell_type": "markdown",
      "source": [
        "**Frame Generation for xn sequence**"
      ],
      "metadata": {
        "id": "SBCctaAJJK3A"
      }
    },
    {
      "cell_type": "code",
      "source": [
        "def frame_generation(xn,hn):\n",
        "\n",
        "    j = 0\n",
        "    k = 0\n",
        "    xin = []\n",
        "\n",
        "    while(k < len(xn)):\n",
        "\n",
        "      if len(xin) == 0:\n",
        "        xin.append(np.zeros(N))\n",
        "        for i in range(L):\n",
        "          xin[0][i + Prepend_count] += xn[k]\n",
        "          k += 1\n",
        "        j += 1\n",
        "      elif k < len(xn):\n",
        "        frame_xn = np.zeros(N)\n",
        "        l = 0\n",
        "\n",
        "        for l in range(Prepend_count):\n",
        "          frame_xn[l] += xin[j - 1][N - Prepend_count + l] #previous_frame_element to carry in next frame upto L no of samples\n",
        "\n",
        "        l += 1\n",
        "        while(l < N and k < len(xn)):\n",
        "          frame_xn[l] += xn[k]\n",
        "          k += 1\n",
        "          l += 1\n",
        "        xin.append(frame_xn)\n",
        "        j += 1\n",
        "\n",
        "    frame_xn = np.zeros(N)\n",
        "    l = 0\n",
        "\n",
        "    for l in range(Prepend_count):\n",
        "      frame_xn[l] += xin[j - 1][N - Prepend_count + l] #previous_frame_element to carry in next frame upto L no of samples\n",
        "    j += 1\n",
        "    l += 1\n",
        "    xin.append(frame_xn)\n",
        "    full_stack = np.vstack(xin)\n",
        "    print(full_stack)\n",
        "\n",
        "    return full_stack"
      ],
      "metadata": {
        "id": "O7LMyizfJPme"
      },
      "execution_count": 22,
      "outputs": []
    },
    {
      "cell_type": "markdown",
      "source": [
        "**Circular Convolution**"
      ],
      "metadata": {
        "id": "J8Nhh63_Jb0f"
      }
    },
    {
      "cell_type": "code",
      "source": [
        "def circular_convolution(frame_xn,hn):\n",
        "    M = len(frame_xn)\n",
        "    N = len(hn)\n",
        "\n",
        "    if M != N:\n",
        "        raise ValueError(\"Input sequences must have the same length for circular convolution.\")\n",
        "\n",
        "    result = [0] * M\n",
        "\n",
        "    for n in range(M):\n",
        "        for k in range(M):\n",
        "            result[n] += frame_xn[k] * hn[(n - k) % M]\n",
        "\n",
        "    return result"
      ],
      "metadata": {
        "id": "399M9ExlJe7o"
      },
      "execution_count": 23,
      "outputs": []
    },
    {
      "cell_type": "markdown",
      "source": [
        "**Perform OLS**"
      ],
      "metadata": {
        "id": "ZAx-eLp9cD20"
      }
    },
    {
      "cell_type": "code",
      "source": [
        "yn = np.zeros(L_yn)\n",
        "k = 0 # iterator for xn\n",
        "\n",
        "hn_padded = np.pad(hn,(0,N - M))\n",
        "\n",
        "frame_xn_array = frame_generation(xn,hn)\n",
        "\n",
        "for i in range(len(frame_xn_array)):\n",
        "  frame_yin = np.zeros(N)\n",
        "  frame_yin += circular_convolution(frame_xn_array[i],hn_padded)\n",
        "\n",
        "  print('Frame {} after circular convolution : {} '.format(i + 1,frame_yin))\n",
        "\n",
        "  j = Prepend_count\n",
        "  while(j < len(frame_yin) and k < len(yn)):\n",
        "    yn[k] += frame_yin[j]\n",
        "    j += 1\n",
        "    k += 1\n"
      ],
      "metadata": {
        "colab": {
          "base_uri": "https://localhost:8080/"
        },
        "id": "ukufAlqQpSy0",
        "outputId": "2fa467f3-d3ec-4da8-bb13-0a18ef2ae7d3"
      },
      "execution_count": 24,
      "outputs": [
        {
          "output_type": "stream",
          "name": "stdout",
          "text": [
            "[[ 0.  0.  1.  2. -1.  3.]\n",
            " [-1.  3. -2.  4.  1. -3.]\n",
            " [ 1. -3.  1.  1. -1.  1.]\n",
            " [-1.  1.  0.  0.  0.  0.]]\n",
            "Frame 1 after circular convolution : [-4.  3.  1.  1. -2.  6.] \n",
            "Frame 2 after circular convolution : [ 3.  1. -6.  9. -5.  0.] \n",
            "Frame 3 after circular convolution : [-1. -3.  5. -3. -1.  3.] \n",
            "Frame 4 after circular convolution : [-1.  2. -2.  1.  0.  0.] \n"
          ]
        }
      ]
    },
    {
      "cell_type": "markdown",
      "source": [
        "**Print Input and Output**"
      ],
      "metadata": {
        "id": "BsCYzjfBJpw_"
      }
    },
    {
      "cell_type": "code",
      "source": [
        "print('Input Sequence is : {} '.format(xn))\n",
        "print('Impulse Sequence is : {} '.format(hn))\n",
        "print('Output Sequence is : {} '.format(yn))"
      ],
      "metadata": {
        "colab": {
          "base_uri": "https://localhost:8080/"
        },
        "id": "Vl_cwQOcJs7g",
        "outputId": "ec76915c-0f58-4c19-df05-1927d01fe5fd"
      },
      "execution_count": 25,
      "outputs": [
        {
          "output_type": "stream",
          "name": "stdout",
          "text": [
            "Input Sequence is : [ 1  2 -1  3 -2  4  1 -3  1  1 -1  1] \n",
            "Impulse Sequence is : [ 1 -1  1] \n",
            "Output Sequence is : [ 1.  1. -2.  6. -6.  9. -5.  0.  5. -3. -1.  3. -2.  1.] \n"
          ]
        }
      ]
    },
    {
      "cell_type": "markdown",
      "source": [
        "**Worksheet 6**"
      ],
      "metadata": {
        "id": "2HIVVCTpgsrE"
      }
    },
    {
      "cell_type": "markdown",
      "source": [
        "1. Design a highpass FIR filter with the following specifications: Stopband = 0–1,500 Hz Passband = 2,500–4,000 Hz Stopband attenuation = 40 dB Pass-\n",
        "band ripple = 0.1 dB Sampling rate = 8,000 Hz"
      ],
      "metadata": {
        "id": "yl5UefN-3B74"
      }
    },
    {
      "cell_type": "markdown",
      "source": [
        "**Select Parameters**"
      ],
      "metadata": {
        "id": "cJwtqmu03G88"
      }
    },
    {
      "cell_type": "code",
      "source": [
        "# Define filter parameters\n",
        "tap = 25        # Number of taps\n",
        "Fc = 1600       # Cutoff frequency in Hz\n",
        "Fs = 8000       # Sampling rate in Hz\n",
        "window_func = \"boxcar\"  # Window function for filter design"
      ],
      "metadata": {
        "id": "U3Z2XVZNhKAi"
      },
      "execution_count": 26,
      "outputs": []
    },
    {
      "cell_type": "markdown",
      "source": [
        "**Design and Compute filter**"
      ],
      "metadata": {
        "id": "kPtraNtY3Rhp"
      }
    },
    {
      "cell_type": "code",
      "execution_count": 27,
      "metadata": {
        "id": "S5Q9Cb3JZP42"
      },
      "outputs": [],
      "source": [
        "def firdesign(tap, Fs, Fc, win=\"boxcar\", fir_type='lowpass'):\n",
        "    # Calculate the normalized cutoff frequency\n",
        "    normalized_cutoff = Fc / (Fs / 2)\n",
        "\n",
        "    # Design the FIR filter coefficients\n",
        "    if fir_type == 'lowpass':\n",
        "        b = firwin(tap, normalized_cutoff, window=win)\n",
        "    elif fir_type == 'highpass':\n",
        "        b = firwin(tap, normalized_cutoff, window=win, pass_zero=False)\n",
        "    else:\n",
        "        raise ValueError(\"Unsupported fir_type. Choose 'lowpass' or 'highpass'.\")\n",
        "\n",
        "    return b, [1.0]  # Return filter coefficients 'b' and 'a' (always [1.0] for FIR)\n",
        "\n",
        "\n",
        "\n",
        "\n",
        "def coeff2freq_response(b, a):\n",
        "    # Compute the frequency response\n",
        "    w, H = freqz(b, a)\n",
        "\n",
        "    return w, H\n",
        "\n",
        "\n",
        "# Design the high-pass FIR filter\n",
        "b, a = firdesign(tap, Fs, Fc, win=window_func, fir_type='highpass')\n",
        "\n",
        "# Compute the frequency response\n",
        "w, H = coeff2freq_response(b, a)\n",
        "\n",
        "# Convert angular frequency to Hz\n",
        "F = w * Fs / (2 * np.pi)\n"
      ]
    },
    {
      "cell_type": "markdown",
      "source": [
        "**Plot Section**"
      ],
      "metadata": {
        "id": "38BVnxJl3W7l"
      }
    },
    {
      "cell_type": "code",
      "source": [
        "\n",
        "# Plot the impulse response\n",
        "plt.figure(figsize=(8, 6))\n",
        "plt.subplot(3, 1, 1)\n",
        "plt.stem(b)\n",
        "plt.ylabel('HPF IR')\n",
        "plt.xlabel('Samples')\n",
        "\n",
        "# Plot the magnitude response in dB\n",
        "plt.subplot(3, 1, 2)\n",
        "plt.plot(F, 20 * np.log10(np.abs(H)))\n",
        "plt.grid()\n",
        "plt.ylabel('|H(w)| in dB')\n",
        "plt.xlabel('F in Hz')\n",
        "\n",
        "# Plot the phase response in radians\n",
        "plt.subplot(3, 1, 3)\n",
        "plt.plot(F, np.unwrap(np.angle(H)))\n",
        "plt.grid()\n",
        "plt.ylabel('<H(w) in rad')\n",
        "plt.xlabel('F in Hz')\n",
        "\n",
        "# Adjust layout and display the plots\n",
        "plt.tight_layout()\n",
        "plt.show()\n"
      ],
      "metadata": {
        "id": "8rF_pD0n3Y5e",
        "outputId": "8c72d79f-1a0b-4c4c-c266-a2c9b72db78e",
        "colab": {
          "base_uri": "https://localhost:8080/",
          "height": 607
        }
      },
      "execution_count": 28,
      "outputs": [
        {
          "output_type": "display_data",
          "data": {
            "text/plain": [
              "<Figure size 800x600 with 3 Axes>"
            ],
            "image/png": "[encoded data removed]"
          },
          "metadata": {}
        }
      ]
    },
    {
      "cell_type": "markdown",
      "source": [
        "**Worksheet 7**"
      ],
      "metadata": {
        "id": "zq8eGn8QBOsA"
      }
    },
    {
      "cell_type": "markdown",
      "source": [
        "1. Design a second-order digital lowpass Butterworth filter with a cutoff fre-\n",
        "quency of 3.4 kHz at a sampling frequency of 8,000 Hz."
      ],
      "metadata": {
        "id": "Ry0EczsOBVIB"
      }
    },
    {
      "cell_type": "markdown",
      "source": [
        "**Select Parameters**"
      ],
      "metadata": {
        "id": "vtKqgPtnBbiI"
      }
    },
    {
      "cell_type": "code",
      "source": [
        "# Define the filter specifications\n",
        "fs = 8000  # Sampling frequency in Hz\n",
        "fc = 3400  # Cutoff frequency in Hz\n",
        "order = 2  # Filter order"
      ],
      "metadata": {
        "id": "yLX3arQw0jOV"
      },
      "execution_count": 29,
      "outputs": []
    },
    {
      "cell_type": "markdown",
      "source": [
        "**Calculation and Designing of Filter**"
      ],
      "metadata": {
        "id": "pfoAu7PGBlFh"
      }
    },
    {
      "cell_type": "code",
      "source": [
        "\n",
        "# Calculate the normalized cutoff frequency\n",
        "normalized_cutoff = fc /fs\n",
        "\n",
        "# Calculate the angular frequency (omega_c)\n",
        "wc = 2 * np.pi * normalized_cutoff\n",
        "\n",
        "# Generate a list of frequencies\n",
        "frequencies = np.linspace(0, 0.5, 1000)  # Frequencies from 0 to Nyquist, 1000 is the equally spaced points between 0 and 0.5.\n",
        "\n",
        "# Calculate the frequency response using the Butterworth filter formula\n",
        "H = 1 / (1 + 1j * (frequencies / normalized_cutoff) ** (2 * order))\n"
      ],
      "metadata": {
        "id": "uyLgHVSWBrIh"
      },
      "execution_count": 30,
      "outputs": []
    },
    {
      "cell_type": "markdown",
      "source": [
        "**Plot Section**"
      ],
      "metadata": {
        "id": "VYxHNOUtBtqp"
      }
    },
    {
      "cell_type": "code",
      "source": [
        "# Plot the frequency response\n",
        "plt.figure()\n",
        "plt.plot(frequencies * fs, np.abs(H), 'b')\n",
        "plt.title(\"Butterworth Lowpass Filter Frequency Response\")\n",
        "plt.xlabel(\"Frequency [Hz]\")\n",
        "plt.margins(0, 0.1)\n",
        "plt.grid()\n",
        "plt.show()"
      ],
      "metadata": {
        "colab": {
          "base_uri": "https://localhost:8080/",
          "height": 472
        },
        "id": "RvYcL5FVBxK5",
        "outputId": "4f5002d1-53b2-4c1b-a59c-fc23ef308619"
      },
      "execution_count": 31,
      "outputs": [
        {
          "output_type": "display_data",
          "data": {
            "text/plain": [
              "<Figure size 640x480 with 1 Axes>"
            ],
            "image/png": "[encoded data removed]"
          },
          "metadata": {}
        }
      ]
    }
  ]
}