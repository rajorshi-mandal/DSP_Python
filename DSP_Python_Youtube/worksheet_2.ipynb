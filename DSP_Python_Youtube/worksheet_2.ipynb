{
 "cells": [
  {
   "cell_type": "code",
   "execution_count": null,
   "metadata": {},
   "outputs": [],
   "source": [
    "import numpy as np\n",
    "from scipy.io import wavfile\n",
    "\n",
    "# Load the recorded audio and impulse response\n",
    "fs = 16000  # Sampling rate (16 kHz)\n",
    "recorded_audio_file = \"recorded_audio.wav\"\n",
    "hallway_impulse_response_file = \"hallway_imp.wav\"\n",
    "\n",
    "recorded_audio_fs, recorded_audio = wavfile.read(recorded_audio_file)\n",
    "hallway_fs, hallway_impulse_response = wavfile.read(hallway_impulse_response_file)\n",
    "\n",
    "# Ensure both signals have the same sampling rate\n",
    "assert recorded_audio_fs == hallway_fs\n",
    "\n",
    "# Zero-pad if needed to match the lengths\n",
    "if len(recorded_audio) < len(hallway_impulse_response):\n",
    "    recorded_audio = np.pad(recorded_audio, (0, len(hallway_impulse_response) - len(recorded_audio)))\n",
    "\n",
    "# Perform convolution\n",
    "simulated_audio = np.convolve(recorded_audio, hallway_impulse_response, mode='full')\n",
    "\n",
    "# Normalize the result to prevent clipping\n",
    "simulated_audio /= np.max(np.abs(simulated_audio))\n",
    "\n",
    "# Save the simulated audio to a file\n",
    "output_file = \"hallway_simulation.wav\"\n",
    "wavfile.write(output_file, fs, simulated_audio.astype(np.int16))\n",
    "\n",
    "print(\"Simulation complete. Output saved as\", output_file)\n"
   ]
  },
  {
   "cell_type": "markdown",
   "metadata": {},
   "source": []
  }
 ],
 "metadata": {
  "language_info": {
   "name": "python"
  },
  "orig_nbformat": 4
 },
 "nbformat": 4,
 "nbformat_minor": 2
}
